{
 "cells": [
  {
   "cell_type": "code",
   "execution_count": 2,
   "metadata": {},
   "outputs": [],
   "source": [
    "from pdfminer.converter import TextConverter\n",
    "from pdfminer.layout import LAParams\n",
    "from pdfminer.pdfinterp import PDFResourceManager, PDFPageInterpreter\n",
    "from pdfminer.pdfpage import PDFPage\n",
    "from io import StringIO\n",
    "\n",
    "\n",
    "def pdf_reader(file):\n",
    "    resource_manager = PDFResourceManager()\n",
    "    fake_file_handle = StringIO()\n",
    "    converter = TextConverter(resource_manager, fake_file_handle, laparams=LAParams())\n",
    "    page_interpreter = PDFPageInterpreter(resource_manager, converter)\n",
    "    with open(file, 'rb') as fh:\n",
    "        for page in PDFPage.get_pages(fh,\n",
    "                                      caching=True,\n",
    "                                      check_extractable=True):\n",
    "            page_interpreter.process_page(page)\n",
    "            print(page)\n",
    "        text = fake_file_handle.getvalue()\n",
    "\n",
    "    # close open handles\n",
    "    converter.close()\n",
    "    fake_file_handle.close()\n",
    "    return text"
   ]
  },
  {
   "cell_type": "code",
   "execution_count": 3,
   "metadata": {},
   "outputs": [
    {
     "name": "stdout",
     "output_type": "stream",
     "text": [
      "<PDFPage: Resources={'ProcSet': [/'PDF', /'Text', /'ImageB', /'ImageC', /'ImageI'], 'ExtGState': {'G3': <PDFObjRef:3>, 'G6': <PDFObjRef:6>}, 'XObject': {'X13': <PDFObjRef:13>, 'X15': <PDFObjRef:15>, 'X17': <PDFObjRef:17>}, 'Font': {'F4': <PDFObjRef:4>, 'F5': <PDFObjRef:5>, 'F7': <PDFObjRef:7>, 'F8': <PDFObjRef:8>, 'F9': <PDFObjRef:9>, 'F10': <PDFObjRef:10>, 'F11': <PDFObjRef:11>, 'F12': <PDFObjRef:12>}}, MediaBox=[0, 0, 612, 936]>\n"
     ]
    },
    {
     "data": {
      "text/plain": [
       "'Samridh Singh\\n\\n   Email | LinkedIn | GitHub |New Delhi, India\\n\\nEducation\\n\\nBachelor of Technology, Computer Science                                                \\nBennett University – Greater Noida, India\\n\\nCGPA: 8.4 (3rd sem)\\n\\n2021-2025\\n\\nExperience/Achievements\\n\\nBlockchain & frontend Developer Intern\\nDolf.finance\\n\\nNov 2022 - Dec 2022\\n\\n● worked on Risk Dashboard of web app , added functionalities and responsiveness , built custom components and made api to get data\\n\\nfrom different sources, setting up oracles, account abstraction and many more\\n\\nWinner Solana Hack Day\\nSolana x Superteam 12 hours hackathon - link\\n\\nNov 2022\\n\\n●\\n\\nA Decentralised autonomous organisation for scientists and undergrads and innovators to publish their paper, mint Nft , get grants and\\ncollaborate.\\n\\nFull stack Developer Intern - Hirable\\n\\nAug 2022 - Oct 2022\\n\\n● worked on user authentication and built the proﬁle component of metadev in React, integrated machine learning models in web App.\\n\\n1st Runner-up Hackaccino - 48 hrs coding hackathon \\n\\nMay 2022\\n\\n●\\n\\nbuilt Remeds - a Decentralised Electronic health record system on Ethereum  that can securely register , store and retrieve patients\\ndata with full transparency (Infura , solidity , ethereum)\\n\\nUniversity Qualifiers - Smart India Hackathon\\n\\nAug 2022\\n\\n●\\n\\nLed a team of 5 , that worked on building ai based events app on ﬂutter framework , solving the problems in Edtech industry.\\n\\nTech Executive\\nGoogle developers Student Club – Bennett University, Noida.\\n\\nOct 2021 - Aug 2022\\n\\n●\\n\\nLed team of 3 co developers to design and make club website , created landing page feature deliveries for the entire club.\\n\\nProjects\\n\\nFirebolt Fanfare : Web3 tool for creators – Deployed link\\n\\n●\\n\\n●\\n\\nA scalable app built in next js as frontend that is seo friendly , fast with static site generation.\\n\\npowered by alchemy and Ipfs at backend , built on polygon chain , can handle a million users in production\\n\\nGameStop : decentralised App– GitHub, Deployed link\\n\\n●\\n\\ndesigned a Dapp on ethereum using metamask , hardhat and ether.js with react and nodejs\\n\\n● Designed the overall website concept/layout, implemented responsive home & product pages and deployed on Heroku.\\n\\nPeekaLink - Link Previewer – GitHub , Deployed link\\n\\n●\\n\\n●\\n\\nLink Previewer helps users preview any link with Thumbnail , Title, description and website link\\n\\nSupports URL with http or https , Peekalink also works withwww.example.com , example.com\\n\\nDecentralised Exchange on polygon chain\\n\\n●\\n\\na token swap website for pegging and swapping tokens with eth and other major coins\\n\\nReserchain : On chain publication platform on solana\\n\\n●\\n\\nA DAO based platform where scholars and researchers can publish work and manage collaboration with trust.\\n\\nLive Face Recognition and Attendance system\\n\\nDeveloped a face detection and recognition system using KNN and CNN modelling .\\n\\nThis system trains data of new users and marks attendance based on comparing it from a dataset in real time.\\n\\n●\\n\\n●\\n\\nSkills\\n\\nProgramming Skills: c++ | javascript | TS | webAssembly | solidity | CSS3 | HTML |  python | Java |\\n\\nFrameWorks/Technologies: Node | Express | React | Vue | Redux | jQuery | NoSQL | Git | Etherjs | web3js | Distributed Systems |\\npolkadot| docker | Frontend | Backend | English, Hindi – All professional proﬁciency or above\\n\\nCertifications\\n\\nPostman Student Expert\\n\\nPostman Student Experts are proficient in the essential skills involved in building and testing API requests in Postman\\n\\nFullstack blockchain developer\\n\\nAced fundamentals of blockchain and cryptography with ethereum , solidity , polygon, and polkadot chain\\n\\n- Postman\\n\\n-  Ineuron.ai\\n\\n\\x0c'"
      ]
     },
     "execution_count": 3,
     "metadata": {},
     "output_type": "execute_result"
    }
   ],
   "source": [
    "save_path = 'uploaded_resume\\samridh_singh_resume.pdf'\n",
    "resume_text = pdf_reader(save_path)\n",
    "resume_text"
   ]
  },
  {
   "cell_type": "code",
   "execution_count": 4,
   "metadata": {},
   "outputs": [
    {
     "data": {
      "text/plain": [
       "'samridh singh\\n\\n   email | linkedin | github |new delhi, india\\n\\neducation\\n\\nbachelor of technology, computer science                                                \\nbennett university – greater noida, india\\n\\ncgpa: 8.4 (3rd sem)\\n\\n2021-2025\\n\\nexperience/achievements\\n\\nblockchain & frontend developer intern\\ndolf.finance\\n\\nnov 2022 - dec 2022\\n\\n● worked on risk dashboard of web app , added functionalities and responsiveness , built custom components and made api to get data\\n\\nfrom different sources, setting up oracles, account abstraction and many more\\n\\nwinner solana hack day\\nsolana x superteam 12 hours hackathon - link\\n\\nnov 2022\\n\\n●\\n\\na decentralised autonomous organisation for scientists and undergrads and innovators to publish their paper, mint nft , get grants and\\ncollaborate.\\n\\nfull stack developer intern - hirable\\n\\naug 2022 - oct 2022\\n\\n● worked on user authentication and built the proﬁle component of metadev in react, integrated machine learning models in web app.\\n\\n1st runner-up hackaccino - 48 hrs coding hackathon \\n\\nmay 2022\\n\\n●\\n\\nbuilt remeds - a decentralised electronic health record system on ethereum  that can securely register , store and retrieve patients\\ndata with full transparency (infura , solidity , ethereum)\\n\\nuniversity qualifiers - smart india hackathon\\n\\naug 2022\\n\\n●\\n\\nled a team of 5 , that worked on building ai based events app on ﬂutter framework , solving the problems in edtech industry.\\n\\ntech executive\\ngoogle developers student club – bennett university, noida.\\n\\noct 2021 - aug 2022\\n\\n●\\n\\nled team of 3 co developers to design and make club website , created landing page feature deliveries for the entire club.\\n\\nprojects\\n\\nfirebolt fanfare : web3 tool for creators – deployed link\\n\\n●\\n\\n●\\n\\na scalable app built in next js as frontend that is seo friendly , fast with static site generation.\\n\\npowered by alchemy and ipfs at backend , built on polygon chain , can handle a million users in production\\n\\ngamestop : decentralised app– github, deployed link\\n\\n●\\n\\ndesigned a dapp on ethereum using metamask , hardhat and ether.js with react and nodejs\\n\\n● designed the overall website concept/layout, implemented responsive home & product pages and deployed on heroku.\\n\\npeekalink - link previewer – github , deployed link\\n\\n●\\n\\n●\\n\\nlink previewer helps users preview any link with thumbnail , title, description and website link\\n\\nsupports url with http or https , peekalink also works withwww.example.com , example.com\\n\\ndecentralised exchange on polygon chain\\n\\n●\\n\\na token swap website for pegging and swapping tokens with eth and other major coins\\n\\nreserchain : on chain publication platform on solana\\n\\n●\\n\\na dao based platform where scholars and researchers can publish work and manage collaboration with trust.\\n\\nlive face recognition and attendance system\\n\\ndeveloped a face detection and recognition system using knn and cnn modelling .\\n\\nthis system trains data of new users and marks attendance based on comparing it from a dataset in real time.\\n\\n●\\n\\n●\\n\\nskills\\n\\nprogramming skills: c++ | javascript | ts | webassembly | solidity | css3 | html |  python | java |\\n\\nframeworks/technologies: node | express | react | vue | redux | jquery | nosql | git | etherjs | web3js | distributed systems |\\npolkadot| docker | frontend | backend | english, hindi – all professional proﬁciency or above\\n\\ncertifications\\n\\npostman student expert\\n\\npostman student experts are proficient in the essential skills involved in building and testing api requests in postman\\n\\nfullstack blockchain developer\\n\\naced fundamentals of blockchain and cryptography with ethereum , solidity , polygon, and polkadot chain\\n\\n- postman\\n\\n-  ineuron.ai\\n\\n\\x0c'"
      ]
     },
     "execution_count": 4,
     "metadata": {},
     "output_type": "execute_result"
    }
   ],
   "source": [
    "resume_text = resume_text.lower()\n",
    "resume_text"
   ]
  },
  {
   "cell_type": "code",
   "execution_count": 5,
   "metadata": {},
   "outputs": [
    {
     "data": {
      "text/plain": [
       "'samridh singh\\n\\n   email | linkedin | github |new delhi, india\\n\\neducation\\n\\nbachelor of technology, computer science                                                \\nbennett university – greater noida, india\\n\\ncgpa: 8.4 (3rd sem)\\n\\n2021-2025\\n\\nexperience/achievements\\n\\nblockchain & frontend developer intern\\ndolf.finance\\n\\nnov 2022 - dec 2022\\n\\n● worked on risk dashboard of web app , added functionalities and responsiveness , built custom components and made api to get data\\n\\nfrom different sources, setting up oracles, account abstraction and many more\\n\\nwinner solana hack day\\nsolana x superteam 12 hours hackathon - link\\n\\nnov 2022\\n\\n●\\n\\na decentralised autonomous organisation for scientists and undergrads and innovators to publish their paper, mint nft , get grants and\\ncollaborate.\\n\\nfull stack developer intern - hirable\\n\\naug 2022 - oct 2022\\n\\n● worked on user authentication and built the proﬁle component of metadev in react, integrated machine learning models in web app.\\n\\n1st runner-up hackaccino - 48 hrs coding hackathon \\n\\nmay 2022\\n\\n●\\n\\nbuilt remeds - a decentralised electronic health record system on ethereum  that can securely register , store and retrieve patients\\ndata with full transparency (infura , solidity , ethereum)\\n\\nuniversity qualifiers - smart india hackathon\\n\\naug 2022\\n\\n●\\n\\nled a team of 5 , that worked on building ai based events app on ﬂutter framework , solving the problems in edtech industry.\\n\\ntech executive\\ngoogle developers student club – bennett university, noida.\\n\\noct 2021 - aug 2022\\n\\n●\\n\\nled team of 3 co developers to design and make club website , created landing page feature deliveries for the entire club.\\n\\nprojects\\n\\nfirebolt fanfare : web3 tool for creators – deployed link\\n\\n●\\n\\n●\\n\\na scalable app built in next js as frontend that is seo friendly , fast with static site generation.\\n\\npowered by alchemy and ipfs at backend , built on polygon chain , can handle a million users in production\\n\\ngamestop : decentralised app– github, deployed link\\n\\n●\\n\\ndesigned a dapp on ethereum using metamask , hardhat and ether.js with react and nodejs\\n\\n● designed the overall website concept/layout, implemented responsive home & product pages and deployed on heroku.\\n\\npeekalink - link previewer – github , deployed link\\n\\n●\\n\\n●\\n\\nlink previewer helps users preview any link with thumbnail , title, description and website link\\n\\nsupports url with http or https , peekalink also works withwww.example.com , example.com\\n\\ndecentralised exchange on polygon chain\\n\\n●\\n\\na token swap website for pegging and swapping tokens with eth and other major coins\\n\\nreserchain : on chain publication platform on solana\\n\\n●\\n\\na dao based platform where scholars and researchers can publish work and manage collaboration with trust.\\n\\nlive face recognition and attendance system\\n\\ndeveloped a face detection and recognition system using knn and cnn modelling .\\n\\nthis system trains data of new users and marks attendance based on comparing it from a dataset in real time.\\n\\n●\\n\\n●\\n\\nskills\\n\\nprogramming skills: c++ | javascript | ts | webassembly | solidity | css3 | html |  python | java |\\n\\nframeworks/technologies: node | express | react | vue | redux | jquery | nosql | git | etherjs | web3js | distributed systems |\\npolkadot| docker | frontend | backend | english, hindi – all professional proﬁciency or above\\n\\ncertifications\\n\\npostman student expert\\n\\npostman student experts are proficient in the essential skills involved in building and testing api requests in postman\\n\\nfullstack blockchain developer\\n\\naced fundamentals of blockchain and cryptography with ethereum , solidity , polygon, and polkadot chain\\n\\n- postman\\n\\n-  ineuron.ai\\n\\n\\x0c'"
      ]
     },
     "execution_count": 5,
     "metadata": {},
     "output_type": "execute_result"
    }
   ],
   "source": [
    "import re\n",
    "#remove html tags\n",
    "def remove_html(text):\n",
    "    html_tags = re.compile('<.*?>')\n",
    "    return re.sub(html_tags, '', text)\n",
    "\n",
    "resume_text = remove_html(resume_text)\n",
    "resume_text"
   ]
  },
  {
   "cell_type": "code",
   "execution_count": 6,
   "metadata": {},
   "outputs": [
    {
     "data": {
      "text/plain": [
       "'samridh singh\\n\\n   email | linkedin | github |new delhi, india\\n\\neducation\\n\\nbachelor of technology, computer science                                                \\nbennett university – greater noida, india\\n\\ncgpa: 8.4 (3rd sem)\\n\\n2021-2025\\n\\nexperience/achievements\\n\\nblockchain & frontend developer intern\\ndolf.finance\\n\\nnov 2022 - dec 2022\\n\\n● worked on risk dashboard of web app , added functionalities and responsiveness , built custom components and made api to get data\\n\\nfrom different sources, setting up oracles, account abstraction and many more\\n\\nwinner solana hack day\\nsolana x superteam 12 hours hackathon - link\\n\\nnov 2022\\n\\n●\\n\\na decentralised autonomous organisation for scientists and undergrads and innovators to publish their paper, mint nft , get grants and\\ncollaborate.\\n\\nfull stack developer intern - hirable\\n\\naug 2022 - oct 2022\\n\\n● worked on user authentication and built the proﬁle component of metadev in react, integrated machine learning models in web app.\\n\\n1st runner-up hackaccino - 48 hrs coding hackathon \\n\\nmay 2022\\n\\n●\\n\\nbuilt remeds - a decentralised electronic health record system on ethereum  that can securely register , store and retrieve patients\\ndata with full transparency (infura , solidity , ethereum)\\n\\nuniversity qualifiers - smart india hackathon\\n\\naug 2022\\n\\n●\\n\\nled a team of 5 , that worked on building ai based events app on ﬂutter framework , solving the problems in edtech industry.\\n\\ntech executive\\ngoogle developers student club – bennett university, noida.\\n\\noct 2021 - aug 2022\\n\\n●\\n\\nled team of 3 co developers to design and make club website , created landing page feature deliveries for the entire club.\\n\\nprojects\\n\\nfirebolt fanfare : web3 tool for creators – deployed link\\n\\n●\\n\\n●\\n\\na scalable app built in next js as frontend that is seo friendly , fast with static site generation.\\n\\npowered by alchemy and ipfs at backend , built on polygon chain , can handle a million users in production\\n\\ngamestop : decentralised app– github, deployed link\\n\\n●\\n\\ndesigned a dapp on ethereum using metamask , hardhat and ether.js with react and nodejs\\n\\n● designed the overall website concept/layout, implemented responsive home & product pages and deployed on heroku.\\n\\npeekalink - link previewer – github , deployed link\\n\\n●\\n\\n●\\n\\nlink previewer helps users preview any link with thumbnail , title, description and website link\\n\\nsupports url with http or https , peekalink also works with , example.com\\n\\ndecentralised exchange on polygon chain\\n\\n●\\n\\na token swap website for pegging and swapping tokens with eth and other major coins\\n\\nreserchain : on chain publication platform on solana\\n\\n●\\n\\na dao based platform where scholars and researchers can publish work and manage collaboration with trust.\\n\\nlive face recognition and attendance system\\n\\ndeveloped a face detection and recognition system using knn and cnn modelling .\\n\\nthis system trains data of new users and marks attendance based on comparing it from a dataset in real time.\\n\\n●\\n\\n●\\n\\nskills\\n\\nprogramming skills: c++ | javascript | ts | webassembly | solidity | css3 | html |  python | java |\\n\\nframeworks/technologies: node | express | react | vue | redux | jquery | nosql | git | etherjs | web3js | distributed systems |\\npolkadot| docker | frontend | backend | english, hindi – all professional proﬁciency or above\\n\\ncertifications\\n\\npostman student expert\\n\\npostman student experts are proficient in the essential skills involved in building and testing api requests in postman\\n\\nfullstack blockchain developer\\n\\naced fundamentals of blockchain and cryptography with ethereum , solidity , polygon, and polkadot chain\\n\\n- postman\\n\\n-  ineuron.ai\\n\\n\\x0c'"
      ]
     },
     "execution_count": 6,
     "metadata": {},
     "output_type": "execute_result"
    }
   ],
   "source": [
    "#remove url or email\n",
    "def remove_url(text):\n",
    "    url = re.compile(r'https?://\\S+|www\\.\\S+')\n",
    "    #remove gmail id\n",
    "    text = re.sub(r'[\\w\\.-]+@[\\w\\.-]+', '', text)\n",
    "    return re.sub(url, '', text)\n",
    "\n",
    "resume_text = remove_url(resume_text)\n",
    "resume_text"
   ]
  },
  {
   "cell_type": "code",
   "execution_count": 7,
   "metadata": {},
   "outputs": [
    {
     "data": {
      "text/plain": [
       "'samridh singh\\n\\n   email  linkedin  github new delhi india\\n\\neducation\\n\\nbachelor of technology computer science                                                \\nbennett university – greater noida india\\n\\ncgpa 84 3rd sem\\n\\n20212025\\n\\nexperienceachievements\\n\\nblockchain  frontend developer intern\\ndolffinance\\n\\nnov 2022  dec 2022\\n\\n● worked on risk dashboard of web app  added functionalities and responsiveness  built custom components and made api to get data\\n\\nfrom different sources setting up oracles account abstraction and many more\\n\\nwinner solana hack day\\nsolana x superteam 12 hours hackathon  link\\n\\nnov 2022\\n\\n●\\n\\na decentralised autonomous organisation for scientists and undergrads and innovators to publish their paper mint nft  get grants and\\ncollaborate\\n\\nfull stack developer intern  hirable\\n\\naug 2022  oct 2022\\n\\n● worked on user authentication and built the proﬁle component of metadev in react integrated machine learning models in web app\\n\\n1st runnerup hackaccino  48 hrs coding hackathon \\n\\nmay 2022\\n\\n●\\n\\nbuilt remeds  a decentralised electronic health record system on ethereum  that can securely register  store and retrieve patients\\ndata with full transparency infura  solidity  ethereum\\n\\nuniversity qualifiers  smart india hackathon\\n\\naug 2022\\n\\n●\\n\\nled a team of 5  that worked on building ai based events app on ﬂutter framework  solving the problems in edtech industry\\n\\ntech executive\\ngoogle developers student club – bennett university noida\\n\\noct 2021  aug 2022\\n\\n●\\n\\nled team of 3 co developers to design and make club website  created landing page feature deliveries for the entire club\\n\\nprojects\\n\\nfirebolt fanfare  web3 tool for creators – deployed link\\n\\n●\\n\\n●\\n\\na scalable app built in next js as frontend that is seo friendly  fast with static site generation\\n\\npowered by alchemy and ipfs at backend  built on polygon chain  can handle a million users in production\\n\\ngamestop  decentralised app– github deployed link\\n\\n●\\n\\ndesigned a dapp on ethereum using metamask  hardhat and etherjs with react and nodejs\\n\\n● designed the overall website conceptlayout implemented responsive home  product pages and deployed on heroku\\n\\npeekalink  link previewer – github  deployed link\\n\\n●\\n\\n●\\n\\nlink previewer helps users preview any link with thumbnail  title description and website link\\n\\nsupports url with http or https  peekalink also works with  examplecom\\n\\ndecentralised exchange on polygon chain\\n\\n●\\n\\na token swap website for pegging and swapping tokens with eth and other major coins\\n\\nreserchain  on chain publication platform on solana\\n\\n●\\n\\na dao based platform where scholars and researchers can publish work and manage collaboration with trust\\n\\nlive face recognition and attendance system\\n\\ndeveloped a face detection and recognition system using knn and cnn modelling \\n\\nthis system trains data of new users and marks attendance based on comparing it from a dataset in real time\\n\\n●\\n\\n●\\n\\nskills\\n\\nprogramming skills c  javascript  ts  webassembly  solidity  css3  html   python  java \\n\\nframeworkstechnologies node  express  react  vue  redux  jquery  nosql  git  etherjs  web3js  distributed systems \\npolkadot docker  frontend  backend  english hindi – all professional proﬁciency or above\\n\\ncertifications\\n\\npostman student expert\\n\\npostman student experts are proficient in the essential skills involved in building and testing api requests in postman\\n\\nfullstack blockchain developer\\n\\naced fundamentals of blockchain and cryptography with ethereum  solidity  polygon and polkadot chain\\n\\n postman\\n\\n  ineuronai\\n\\n\\x0c'"
      ]
     },
     "execution_count": 7,
     "metadata": {},
     "output_type": "execute_result"
    }
   ],
   "source": [
    "import string\n",
    "#remove punctuations\n",
    "def remove_punct(text):\n",
    "    table=str.maketrans('','',string.punctuation)\n",
    "    return text.translate(table)\n",
    "\n",
    "resume_text = remove_punct(resume_text)\n",
    "resume_text"
   ]
  },
  {
   "cell_type": "code",
   "execution_count": 8,
   "metadata": {},
   "outputs": [
    {
     "data": {
      "text/plain": [
       "'samridh singh\\n\\n   email  linkedin  github new delhi india\\n\\neducation\\n\\nbachelor of technology computer science                                                \\nbennett university – greater noida india\\n\\ncgpa 84 3rd sem\\n\\n20212025\\n\\nexperienceachievements\\n\\nblockchain  frontend developer intern\\ndolffinance\\n\\nnov 2022  dec 2022\\n\\n worked on risk dashboard of web app  added functionalities and responsiveness  built custom components and made api to get data\\n\\nfrom different sources setting up oracles account abstraction and many more\\n\\nwinner solana hack day\\nsolana x superteam 12 hours hackathon  link\\n\\nnov 2022\\n\\n\\n\\na decentralised autonomous organisation for scientists and undergrads and innovators to publish their paper mint nft  get grants and\\ncollaborate\\n\\nfull stack developer intern  hirable\\n\\naug 2022  oct 2022\\n\\n worked on user authentication and built the proﬁle component of metadev in react integrated machine learning models in web app\\n\\n1st runnerup hackaccino  48 hrs coding hackathon \\n\\nmay 2022\\n\\n\\n\\nbuilt remeds  a decentralised electronic health record system on ethereum  that can securely register  store and retrieve patients\\ndata with full transparency infura  solidity  ethereum\\n\\nuniversity qualifiers  smart india hackathon\\n\\naug 2022\\n\\n\\n\\nled a team of 5  that worked on building ai based events app on ﬂutter framework  solving the problems in edtech industry\\n\\ntech executive\\ngoogle developers student club – bennett university noida\\n\\noct 2021  aug 2022\\n\\n\\n\\nled team of 3 co developers to design and make club website  created landing page feature deliveries for the entire club\\n\\nprojects\\n\\nfirebolt fanfare  web3 tool for creators – deployed link\\n\\n\\n\\n\\n\\na scalable app built in next js as frontend that is seo friendly  fast with static site generation\\n\\npowered by alchemy and ipfs at backend  built on polygon chain  can handle a million users in production\\n\\ngamestop  decentralised app– github deployed link\\n\\n\\n\\ndesigned a dapp on ethereum using metamask  hardhat and etherjs with react and nodejs\\n\\n designed the overall website conceptlayout implemented responsive home  product pages and deployed on heroku\\n\\npeekalink  link previewer – github  deployed link\\n\\n\\n\\n\\n\\nlink previewer helps users preview any link with thumbnail  title description and website link\\n\\nsupports url with http or https  peekalink also works with  examplecom\\n\\ndecentralised exchange on polygon chain\\n\\n\\n\\na token swap website for pegging and swapping tokens with eth and other major coins\\n\\nreserchain  on chain publication platform on solana\\n\\n\\n\\na dao based platform where scholars and researchers can publish work and manage collaboration with trust\\n\\nlive face recognition and attendance system\\n\\ndeveloped a face detection and recognition system using knn and cnn modelling \\n\\nthis system trains data of new users and marks attendance based on comparing it from a dataset in real time\\n\\n\\n\\n\\n\\nskills\\n\\nprogramming skills c  javascript  ts  webassembly  solidity  css3  html   python  java \\n\\nframeworkstechnologies node  express  react  vue  redux  jquery  nosql  git  etherjs  web3js  distributed systems \\npolkadot docker  frontend  backend  english hindi – all professional proﬁciency or above\\n\\ncertifications\\n\\npostman student expert\\n\\npostman student experts are proficient in the essential skills involved in building and testing api requests in postman\\n\\nfullstack blockchain developer\\n\\naced fundamentals of blockchain and cryptography with ethereum  solidity  polygon and polkadot chain\\n\\n postman\\n\\n  ineuronai\\n\\n\\x0c'"
      ]
     },
     "execution_count": 8,
     "metadata": {},
     "output_type": "execute_result"
    }
   ],
   "source": [
    "#remove bullet points or numbers\n",
    "def remove_bullet(text):\n",
    "    bullet = re.compile(r'●')\n",
    "    return re.sub(bullet, '', text)\n",
    "\n",
    "resume_text = remove_bullet(resume_text)\n",
    "resume_text"
   ]
  },
  {
   "cell_type": "code",
   "execution_count": 9,
   "metadata": {},
   "outputs": [
    {
     "data": {
      "text/plain": [
       "'samridh singh     email  linkedin  github new delhi india  education  bachelor of technology computer science                                                 bennett university – greater noida india  cgpa 84 3rd sem  20212025  experienceachievements  blockchain  frontend developer intern dolffinance  nov 2022  dec 2022   worked on risk dashboard of web app  added functionalities and responsiveness  built custom components and made api to get data  from different sources setting up oracles account abstraction and many more  winner solana hack day solana x superteam 12 hours hackathon  link  nov 2022    a decentralised autonomous organisation for scientists and undergrads and innovators to publish their paper mint nft  get grants and collaborate  full stack developer intern  hirable  aug 2022  oct 2022   worked on user authentication and built the proﬁle component of metadev in react integrated machine learning models in web app  1st runnerup hackaccino  48 hrs coding hackathon   may 2022    built remeds  a decentralised electronic health record system on ethereum  that can securely register  store and retrieve patients data with full transparency infura  solidity  ethereum  university qualifiers  smart india hackathon  aug 2022    led a team of 5  that worked on building ai based events app on ﬂutter framework  solving the problems in edtech industry  tech executive google developers student club – bennett university noida  oct 2021  aug 2022    led team of 3 co developers to design and make club website  created landing page feature deliveries for the entire club  projects  firebolt fanfare  web3 tool for creators – deployed link      a scalable app built in next js as frontend that is seo friendly  fast with static site generation  powered by alchemy and ipfs at backend  built on polygon chain  can handle a million users in production  gamestop  decentralised app– github deployed link    designed a dapp on ethereum using metamask  hardhat and etherjs with react and nodejs   designed the overall website conceptlayout implemented responsive home  product pages and deployed on heroku  peekalink  link previewer – github  deployed link      link previewer helps users preview any link with thumbnail  title description and website link  supports url with http or https  peekalink also works with  examplecom  decentralised exchange on polygon chain    a token swap website for pegging and swapping tokens with eth and other major coins  reserchain  on chain publication platform on solana    a dao based platform where scholars and researchers can publish work and manage collaboration with trust  live face recognition and attendance system  developed a face detection and recognition system using knn and cnn modelling   this system trains data of new users and marks attendance based on comparing it from a dataset in real time      skills  programming skills c  javascript  ts  webassembly  solidity  css3  html   python  java   frameworkstechnologies node  express  react  vue  redux  jquery  nosql  git  etherjs  web3js  distributed systems  polkadot docker  frontend  backend  english hindi – all professional proﬁciency or above  certifications  postman student expert  postman student experts are proficient in the essential skills involved in building and testing api requests in postman  fullstack blockchain developer  aced fundamentals of blockchain and cryptography with ethereum  solidity  polygon and polkadot chain   postman    ineuronai  \\x0c'"
      ]
     },
     "execution_count": 9,
     "metadata": {},
     "output_type": "execute_result"
    }
   ],
   "source": [
    "#remove \\n\n",
    "def remove_n(text):\n",
    "    n = re.compile(r'\\n')\n",
    "    return re.sub(n, ' ', text)\n",
    "\n",
    "resume_text = remove_n(resume_text)\n",
    "resume_text"
   ]
  },
  {
   "cell_type": "code",
   "execution_count": 10,
   "metadata": {},
   "outputs": [
    {
     "data": {
      "text/plain": [
       "'samridh singh email linkedin github new delhi india education bachelor of technology computer science bennett university – greater noida india cgpa 84 3rd sem 20212025 experienceachievements blockchain frontend developer intern dolffinance nov 2022 dec 2022 worked on risk dashboard of web app added functionalities and responsiveness built custom components and made api to get data from different sources setting up oracles account abstraction and many more winner solana hack day solana x superteam 12 hours hackathon link nov 2022 a decentralised autonomous organisation for scientists and undergrads and innovators to publish their paper mint nft get grants and collaborate full stack developer intern hirable aug 2022 oct 2022 worked on user authentication and built the proﬁle component of metadev in react integrated machine learning models in web app 1st runnerup hackaccino 48 hrs coding hackathon may 2022 built remeds a decentralised electronic health record system on ethereum that can securely register store and retrieve patients data with full transparency infura solidity ethereum university qualifiers smart india hackathon aug 2022 led a team of 5 that worked on building ai based events app on ﬂutter framework solving the problems in edtech industry tech executive google developers student club – bennett university noida oct 2021 aug 2022 led team of 3 co developers to design and make club website created landing page feature deliveries for the entire club projects firebolt fanfare web3 tool for creators – deployed link a scalable app built in next js as frontend that is seo friendly fast with static site generation powered by alchemy and ipfs at backend built on polygon chain can handle a million users in production gamestop decentralised app– github deployed link designed a dapp on ethereum using metamask hardhat and etherjs with react and nodejs designed the overall website conceptlayout implemented responsive home product pages and deployed on heroku peekalink link previewer – github deployed link link previewer helps users preview any link with thumbnail title description and website link supports url with http or https peekalink also works with examplecom decentralised exchange on polygon chain a token swap website for pegging and swapping tokens with eth and other major coins reserchain on chain publication platform on solana a dao based platform where scholars and researchers can publish work and manage collaboration with trust live face recognition and attendance system developed a face detection and recognition system using knn and cnn modelling this system trains data of new users and marks attendance based on comparing it from a dataset in real time skills programming skills c javascript ts webassembly solidity css3 html python java frameworkstechnologies node express react vue redux jquery nosql git etherjs web3js distributed systems polkadot docker frontend backend english hindi – all professional proﬁciency or above certifications postman student expert postman student experts are proficient in the essential skills involved in building and testing api requests in postman fullstack blockchain developer aced fundamentals of blockchain and cryptography with ethereum solidity polygon and polkadot chain postman ineuronai \\x0c'"
      ]
     },
     "execution_count": 10,
     "metadata": {},
     "output_type": "execute_result"
    }
   ],
   "source": [
    "#remove extra spaces\n",
    "def remove_extra_space(text):\n",
    "    return re.sub(' +', ' ', text)\n",
    "\n",
    "resume_text = remove_extra_space(resume_text)\n",
    "resume_text"
   ]
  },
  {
   "cell_type": "code",
   "execution_count": 11,
   "metadata": {},
   "outputs": [
    {
     "data": {
      "text/plain": [
       "'samridh singh email linkedin github new delhi india education bachelor of technology computer science bennett university – greater noida india cgpa  rd sem  experienceachievements blockchain frontend developer intern dolffinance nov  dec  worked on risk dashboard of web app added functionalities and responsiveness built custom components and made api to get data from different sources setting up oracles account abstraction and many more winner solana hack day solana x superteam  hours hackathon link nov  a decentralised autonomous organisation for scientists and undergrads and innovators to publish their paper mint nft get grants and collaborate full stack developer intern hirable aug  oct  worked on user authentication and built the proﬁle component of metadev in react integrated machine learning models in web app st runnerup hackaccino  hrs coding hackathon may  built remeds a decentralised electronic health record system on ethereum that can securely register store and retrieve patients data with full transparency infura solidity ethereum university qualifiers smart india hackathon aug  led a team of  that worked on building ai based events app on ﬂutter framework solving the problems in edtech industry tech executive google developers student club – bennett university noida oct  aug  led team of  co developers to design and make club website created landing page feature deliveries for the entire club projects firebolt fanfare web tool for creators – deployed link a scalable app built in next js as frontend that is seo friendly fast with static site generation powered by alchemy and ipfs at backend built on polygon chain can handle a million users in production gamestop decentralised app– github deployed link designed a dapp on ethereum using metamask hardhat and etherjs with react and nodejs designed the overall website conceptlayout implemented responsive home product pages and deployed on heroku peekalink link previewer – github deployed link link previewer helps users preview any link with thumbnail title description and website link supports url with http or https peekalink also works with examplecom decentralised exchange on polygon chain a token swap website for pegging and swapping tokens with eth and other major coins reserchain on chain publication platform on solana a dao based platform where scholars and researchers can publish work and manage collaboration with trust live face recognition and attendance system developed a face detection and recognition system using knn and cnn modelling this system trains data of new users and marks attendance based on comparing it from a dataset in real time skills programming skills c javascript ts webassembly solidity css html python java frameworkstechnologies node express react vue redux jquery nosql git etherjs webjs distributed systems polkadot docker frontend backend english hindi – all professional proﬁciency or above certifications postman student expert postman student experts are proficient in the essential skills involved in building and testing api requests in postman fullstack blockchain developer aced fundamentals of blockchain and cryptography with ethereum solidity polygon and polkadot chain postman ineuronai \\x0c'"
      ]
     },
     "execution_count": 11,
     "metadata": {},
     "output_type": "execute_result"
    }
   ],
   "source": [
    "#remove numbers\n",
    "def remove_numbers(text):\n",
    "    number = re.compile(r'\\d+')\n",
    "    return re.sub(number, '', text)\n",
    "\n",
    "resume_text = remove_numbers(resume_text)\n",
    "resume_text"
   ]
  },
  {
   "cell_type": "code",
   "execution_count": 12,
   "metadata": {},
   "outputs": [
    {
     "data": {
      "text/plain": [
       "'samridh singh email linkedin github new delhi india education bachelor of technology computer science bennett university – greater noida india cgpa rd sem experienceachievements blockchain frontend developer intern dolffinance nov dec worked on risk dashboard of web app added functionalities and responsiveness built custom components and made api to get data from different sources setting up oracles account abstraction and many more winner solana hack day solana x superteam hours hackathon link nov a decentralised autonomous organisation for scientists and undergrads and innovators to publish their paper mint nft get grants and collaborate full stack developer intern hirable aug oct worked on user authentication and built the proﬁle component of metadev in react integrated machine learning models in web app st runnerup hackaccino hrs coding hackathon may built remeds a decentralised electronic health record system on ethereum that can securely register store and retrieve patients data with full transparency infura solidity ethereum university qualifiers smart india hackathon aug led a team of that worked on building ai based events app on ﬂutter framework solving the problems in edtech industry tech executive google developers student club – bennett university noida oct aug led team of co developers to design and make club website created landing page feature deliveries for the entire club projects firebolt fanfare web tool for creators – deployed link a scalable app built in next js as frontend that is seo friendly fast with static site generation powered by alchemy and ipfs at backend built on polygon chain can handle a million users in production gamestop decentralised app– github deployed link designed a dapp on ethereum using metamask hardhat and etherjs with react and nodejs designed the overall website conceptlayout implemented responsive home product pages and deployed on heroku peekalink link previewer – github deployed link link previewer helps users preview any link with thumbnail title description and website link supports url with http or https peekalink also works with examplecom decentralised exchange on polygon chain a token swap website for pegging and swapping tokens with eth and other major coins reserchain on chain publication platform on solana a dao based platform where scholars and researchers can publish work and manage collaboration with trust live face recognition and attendance system developed a face detection and recognition system using knn and cnn modelling this system trains data of new users and marks attendance based on comparing it from a dataset in real time skills programming skills c javascript ts webassembly solidity css html python java frameworkstechnologies node express react vue redux jquery nosql git etherjs webjs distributed systems polkadot docker frontend backend english hindi – all professional proﬁciency or above certifications postman student expert postman student experts are proficient in the essential skills involved in building and testing api requests in postman fullstack blockchain developer aced fundamentals of blockchain and cryptography with ethereum solidity polygon and polkadot chain postman ineuronai'"
      ]
     },
     "execution_count": 12,
     "metadata": {},
     "output_type": "execute_result"
    }
   ],
   "source": [
    "#remove words starting with \\\n",
    "def remove_words_starting_with_prefix(text, prefix):\n",
    "    words = text.split()\n",
    "    filtered_words = [word for word in words if not word.startswith(prefix)]\n",
    "    return ' '.join(filtered_words)\n",
    "\n",
    "resume_text = remove_words_starting_with_prefix(resume_text, '\\\\')\n",
    "resume_text"
   ]
  },
  {
   "cell_type": "code",
   "execution_count": 13,
   "metadata": {},
   "outputs": [
    {
     "data": {
      "text/plain": [
       "'samridh singh email linkedin github new delhi india education bachelor of technology computer science bennett university – greater noida india cgpa rd sem experienceachievements blockchain frontend developer intern dolffinance nov dec worked on risk dashboard of web app added functionalities and responsiveness built custom components and made api to get data from different sources setting up oracles account abstraction and many more winner solana hack day solana x superteam hours hackathon link nov a decentralised autonomous organisation for scientists and undergrads and innovators to publish their paper mint nft get grants and collaborate full stack developer intern hirable aug oct worked on user authentication and built the proﬁle component of metadev in react integrated machine learning models in web app st runnerup hackaccino hrs coding hackathon may built remeds a decentralised electronic health record system on ethereum that can securely register store and retrieve patients data with full transparency infura solidity ethereum university qualifiers smart india hackathon aug led a team of that worked on building ai based events app on ﬂutter framework solving the problems in edtech industry tech executive google developers student club – bennett university noida oct aug led team of co developers to design and make club website created landing page feature deliveries for the entire club projects firebolt fanfare web tool for creators – deployed link a scalable app built in next js as frontend that is seo friendly fast with static site generation powered by alchemy and ipfs at backend built on polygon chain can handle a million users in production gamestop decentralised app– github deployed link designed a dapp on ethereum using metamask hardhat and etherjs with react and nodejs designed the overall website conceptlayout implemented responsive home product pages and deployed on heroku peekalink link previewer – github deployed link link previewer helps users preview any link with thumbnail title description and website link supports url with http or https peekalink also works with examplecom decentralised exchange on polygon chain a token swap website for pegging and swapping tokens with eth and other major coins reserchain on chain publication platform on solana a dao based platform where scholars and researchers can publish work and manage collaboration with trust live face recognition and attendance system developed a face detection and recognition system using knn and cnn modelling this system trains data of new users and marks attendance based on comparing it from a dataset in real time skills programming skills c javascript ts webassembly solidity css html python java frameworkstechnologies node express react vue redux jquery nosql git etherjs webjs distributed systems polkadot docker frontend backend english hindi – all professional proﬁciency or above certifications postman student expert postman student experts are proficient in the essential skills involved in building and testing api requests in postman fullstack blockchain developer aced fundamentals of blockchain and cryptography with ethereum solidity polygon and polkadot chain postman ineuronai'"
      ]
     },
     "execution_count": 13,
     "metadata": {},
     "output_type": "execute_result"
    }
   ],
   "source": [
    "def remove_bullet_points(text):\n",
    "    text = text.replace('●', '')\n",
    "    text = text.replace('○', '')\n",
    "    return text\n",
    "\n",
    "resume_text = remove_bullet_points(resume_text)\n",
    "resume_text"
   ]
  },
  {
   "cell_type": "code",
   "execution_count": 14,
   "metadata": {},
   "outputs": [],
   "source": [
    "# #remove roman numbers lower case\n",
    "# def remove_roman(text):\n",
    "#     roman = re.compile(r'[ivxlcdm]+')\n",
    "#     return re.sub(roman, '', text)\n",
    "\n",
    "# resume_text= remove_roman(resume_text)\n",
    "# resume_text"
   ]
  },
  {
   "cell_type": "code",
   "execution_count": 15,
   "metadata": {},
   "outputs": [
    {
     "data": {
      "text/plain": [
       "'samridh singh email linkedin github new delhi india education bachelor technology computer science bennett university – greater noida india cgpa rd sem experienceachievements blockchain frontend developer intern dolffinance nov dec worked risk dashboard web app added functionalities responsiveness built custom components made api get data different sources setting oracles account abstraction many winner solana hack day solana x superteam hours hackathon link nov decentralised autonomous organisation scientists undergrads innovators publish paper mint nft get grants collaborate full stack developer intern hirable aug oct worked user authentication built proﬁle component metadev react integrated machine learning models web app st runnerup hackaccino hrs coding hackathon may built remeds decentralised electronic health record system ethereum securely register store retrieve patients data full transparency infura solidity ethereum university qualifiers smart india hackathon aug led team worked building ai based events app ﬂutter framework solving problems edtech industry tech executive google developers student club – bennett university noida oct aug led team co developers design make club website created landing page feature deliveries entire club projects firebolt fanfare web tool creators – deployed link scalable app built next js frontend seo friendly fast static site generation powered alchemy ipfs backend built polygon chain handle million users production gamestop decentralised app– github deployed link designed dapp ethereum using metamask hardhat etherjs react nodejs designed overall website conceptlayout implemented responsive home product pages deployed heroku peekalink link previewer – github deployed link link previewer helps users preview link thumbnail title description website link supports url http https peekalink also works examplecom decentralised exchange polygon chain token swap website pegging swapping tokens eth major coins reserchain chain publication platform solana dao based platform scholars researchers publish work manage collaboration trust live face recognition attendance system developed face detection recognition system using knn cnn modelling system trains data new users marks attendance based comparing dataset real time skills programming skills c javascript ts webassembly solidity css html python java frameworkstechnologies node express react vue redux jquery nosql git etherjs webjs distributed systems polkadot docker frontend backend english hindi – professional proﬁciency certifications postman student expert postman student experts proficient essential skills involved building testing api requests postman fullstack blockchain developer aced fundamentals blockchain cryptography ethereum solidity polygon polkadot chain postman ineuronai'"
      ]
     },
     "execution_count": 15,
     "metadata": {},
     "output_type": "execute_result"
    }
   ],
   "source": [
    "from nltk.corpus import stopwords\n",
    "\n",
    "def remove_stopwords(text):\n",
    "    new_text=[]\n",
    "    for word in text.split():\n",
    "        if word not in stopwords.words('english'):\n",
    "            new_text.append(word)\n",
    "    return ' '.join(new_text)\n",
    "\n",
    "resume_text = remove_stopwords(resume_text)\n",
    "resume_text"
   ]
  }
 ],
 "metadata": {
  "kernelspec": {
   "display_name": "Python 3",
   "language": "python",
   "name": "python3"
  },
  "language_info": {
   "codemirror_mode": {
    "name": "ipython",
    "version": 3
   },
   "file_extension": ".py",
   "mimetype": "text/x-python",
   "name": "python",
   "nbconvert_exporter": "python",
   "pygments_lexer": "ipython3",
   "version": "3.10.2"
  },
  "orig_nbformat": 4,
  "vscode": {
   "interpreter": {
    "hash": "cec3149c39ff75d76ba2ee0904484dc873a82d70d09b337d591c544d26f0d403"
   }
  }
 },
 "nbformat": 4,
 "nbformat_minor": 2
}
