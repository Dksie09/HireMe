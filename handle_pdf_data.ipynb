{
 "cells": [
  {
   "cell_type": "code",
   "execution_count": 9,
   "metadata": {},
   "outputs": [],
   "source": [
    "from pdfminer.converter import TextConverter\n",
    "from pdfminer.layout import LAParams\n",
    "from pdfminer.pdfinterp import PDFResourceManager, PDFPageInterpreter\n",
    "from pdfminer.pdfpage import PDFPage\n",
    "from io import StringIO\n",
    "\n",
    "\n",
    "def pdf_reader(file):\n",
    "    resource_manager = PDFResourceManager()\n",
    "    fake_file_handle = StringIO()\n",
    "    converter = TextConverter(resource_manager, fake_file_handle, laparams=LAParams())\n",
    "    page_interpreter = PDFPageInterpreter(resource_manager, converter)\n",
    "    with open(file, 'rb') as fh:\n",
    "        for page in PDFPage.get_pages(fh,\n",
    "                                      caching=True,\n",
    "                                      check_extractable=True):\n",
    "            page_interpreter.process_page(page)\n",
    "            print(page)\n",
    "        text = fake_file_handle.getvalue()\n",
    "\n",
    "    # close open handles\n",
    "    converter.close()\n",
    "    fake_file_handle.close()\n",
    "    return text"
   ]
  },
  {
   "cell_type": "code",
   "execution_count": 10,
   "metadata": {},
   "outputs": [
    {
     "name": "stdout",
     "output_type": "stream",
     "text": [
      "<PDFPage: Resources={'ProcSet': [/'PDF', /'Text', /'ImageB', /'ImageC', /'ImageI'], 'ExtGState': {'G3': <PDFObjRef:3>, 'G6': <PDFObjRef:6>}, 'Font': {'F4': <PDFObjRef:4>, 'F5': <PDFObjRef:5>, 'F7': <PDFObjRef:7>}}, MediaBox=[0, 0, 612, 792]>\n"
     ]
    },
    {
     "data": {
      "text/plain": [
       "'Riya Batla\\n\\nEmail: riyabatla72@gmail.com\\nMobile: +919310389530\\n\\nSKILLS\\nProgramming: • C • C++ • Python • JavaScript\\nWeb & Database: • HTML • CSS • MySQL\\nFrameworks & Libraries: • ReactJS • jQuery • Bootstrap • Tailwind CSS\\nTech: • Git • Visual Studio • MS Office\\nLanguages: • English • Hindi • Japanese (Elementary) • French (Elementary)\\n\\nEDUCATION\\nB.Tech in Computer Science with Specialization in Software Engineering\\nSRM University, Kattankulathur, Chennai\\n\\nHigh School Diploma\\nDelhi Public School, Rohini\\n\\nACHIEVEMENTS\\n\\nGitHub: github.com/cereal-hecker\\nLinkedIn: linkedin.com/in/riya-batla\\n\\nCGPA: 9.23\\n\\nXth Grade: 92.6%\\nXIIth Grade: 95.4%\\n\\n● Ranked in Top 10 at Hack Summit 3.0 Hackathon  - SmartKisan\\n\\nLed a team of 4 to create a platform that provides farmers an easy way to shift from current methods of inorganic\\nfarming and usage of chemical fertilizers to organic farming using ReactJS, Bootstrap.\\n\\n● Ranked in Top 15 at Data Science Hackathon  - Achilles\\n\\nLed a team of 3 to create a book exchange service where users can upload their books and browse through an\\ninterface to select the books they would like using JavaScript, jQuery, Bootstrap.\\n\\nPROJECTS\\n\\n● UnDrain (Personal Project) | Link -  Created a blog website for users to upload blogs using ReactJS, JavaScript,\\n\\njQuery, Bootstrap.\\n\\n● ProjectNS (Team Project) | Link -  Designed a platform that integrated with a terminal application for live stream of\\na segmented nuclei and count, allowing the user to access an instance via the front end using ReactJS, Bootstrap.\\n\\nCERTIFICATIONS\\n\\n● Python Skill Certificate by HackerRank | Link\\n● CSS Skill Certificate by HackerRank | Link\\n\\nEXPERIENCE\\n\\n● C Programming Certificate by Directorate of L&D | Link\\n\\n● Technical Team Member (Swift Coding Club SRM) -\\n\\n○ Worked on team projects for multiple hackathons.\\n\\n● Web Development Member (Next Gen AI)\\n\\n○ Worked on a team project for frontend using Bootstrap.\\n● Technical Team Member (Google Developer Student Clubs SRM)\\n\\n○ Worked on an event’s website, helped organize the event and in problem solving for the participants.\\n\\n● Technical Team Member (Github Community SRM)\\n● Vice President (Colossal, CINTEL Department Newsletter)\\n\\n○ Led a team of 8 alongside the president to release quarterly issues for the departmental newsletter.\\n○ Wrote several articles and worked as head editor for the newsletter.\\n\\n\\x0c'"
      ]
     },
     "execution_count": 10,
     "metadata": {},
     "output_type": "execute_result"
    }
   ],
   "source": [
    "save_path = 'uploaded_resume\\Riya_resume.pdf'\n",
    "resume_text = pdf_reader(save_path)\n",
    "resume_text"
   ]
  },
  {
   "cell_type": "code",
   "execution_count": 11,
   "metadata": {},
   "outputs": [
    {
     "data": {
      "text/plain": [
       "'riya batla\\n\\nemail: riyabatla72@gmail.com\\nmobile: +919310389530\\n\\nskills\\nprogramming: • c • c++ • python • javascript\\nweb & database: • html • css • mysql\\nframeworks & libraries: • reactjs • jquery • bootstrap • tailwind css\\ntech: • git • visual studio • ms office\\nlanguages: • english • hindi • japanese (elementary) • french (elementary)\\n\\neducation\\nb.tech in computer science with specialization in software engineering\\nsrm university, kattankulathur, chennai\\n\\nhigh school diploma\\ndelhi public school, rohini\\n\\nachievements\\n\\ngithub: github.com/cereal-hecker\\nlinkedin: linkedin.com/in/riya-batla\\n\\ncgpa: 9.23\\n\\nxth grade: 92.6%\\nxiith grade: 95.4%\\n\\n● ranked in top 10 at hack summit 3.0 hackathon  - smartkisan\\n\\nled a team of 4 to create a platform that provides farmers an easy way to shift from current methods of inorganic\\nfarming and usage of chemical fertilizers to organic farming using reactjs, bootstrap.\\n\\n● ranked in top 15 at data science hackathon  - achilles\\n\\nled a team of 3 to create a book exchange service where users can upload their books and browse through an\\ninterface to select the books they would like using javascript, jquery, bootstrap.\\n\\nprojects\\n\\n● undrain (personal project) | link -  created a blog website for users to upload blogs using reactjs, javascript,\\n\\njquery, bootstrap.\\n\\n● projectns (team project) | link -  designed a platform that integrated with a terminal application for live stream of\\na segmented nuclei and count, allowing the user to access an instance via the front end using reactjs, bootstrap.\\n\\ncertifications\\n\\n● python skill certificate by hackerrank | link\\n● css skill certificate by hackerrank | link\\n\\nexperience\\n\\n● c programming certificate by directorate of l&d | link\\n\\n● technical team member (swift coding club srm) -\\n\\n○ worked on team projects for multiple hackathons.\\n\\n● web development member (next gen ai)\\n\\n○ worked on a team project for frontend using bootstrap.\\n● technical team member (google developer student clubs srm)\\n\\n○ worked on an event’s website, helped organize the event and in problem solving for the participants.\\n\\n● technical team member (github community srm)\\n● vice president (colossal, cintel department newsletter)\\n\\n○ led a team of 8 alongside the president to release quarterly issues for the departmental newsletter.\\n○ wrote several articles and worked as head editor for the newsletter.\\n\\n\\x0c'"
      ]
     },
     "execution_count": 11,
     "metadata": {},
     "output_type": "execute_result"
    }
   ],
   "source": [
    "resume_text = resume_text.lower()\n",
    "resume_text"
   ]
  },
  {
   "cell_type": "code",
   "execution_count": 12,
   "metadata": {},
   "outputs": [
    {
     "data": {
      "text/plain": [
       "'riya batla\\n\\nemail: riyabatla72@gmail.com\\nmobile: +919310389530\\n\\nskills\\nprogramming: • c • c++ • python • javascript\\nweb & database: • html • css • mysql\\nframeworks & libraries: • reactjs • jquery • bootstrap • tailwind css\\ntech: • git • visual studio • ms office\\nlanguages: • english • hindi • japanese (elementary) • french (elementary)\\n\\neducation\\nb.tech in computer science with specialization in software engineering\\nsrm university, kattankulathur, chennai\\n\\nhigh school diploma\\ndelhi public school, rohini\\n\\nachievements\\n\\ngithub: github.com/cereal-hecker\\nlinkedin: linkedin.com/in/riya-batla\\n\\ncgpa: 9.23\\n\\nxth grade: 92.6%\\nxiith grade: 95.4%\\n\\n● ranked in top 10 at hack summit 3.0 hackathon  - smartkisan\\n\\nled a team of 4 to create a platform that provides farmers an easy way to shift from current methods of inorganic\\nfarming and usage of chemical fertilizers to organic farming using reactjs, bootstrap.\\n\\n● ranked in top 15 at data science hackathon  - achilles\\n\\nled a team of 3 to create a book exchange service where users can upload their books and browse through an\\ninterface to select the books they would like using javascript, jquery, bootstrap.\\n\\nprojects\\n\\n● undrain (personal project) | link -  created a blog website for users to upload blogs using reactjs, javascript,\\n\\njquery, bootstrap.\\n\\n● projectns (team project) | link -  designed a platform that integrated with a terminal application for live stream of\\na segmented nuclei and count, allowing the user to access an instance via the front end using reactjs, bootstrap.\\n\\ncertifications\\n\\n● python skill certificate by hackerrank | link\\n● css skill certificate by hackerrank | link\\n\\nexperience\\n\\n● c programming certificate by directorate of l&d | link\\n\\n● technical team member (swift coding club srm) -\\n\\n○ worked on team projects for multiple hackathons.\\n\\n● web development member (next gen ai)\\n\\n○ worked on a team project for frontend using bootstrap.\\n● technical team member (google developer student clubs srm)\\n\\n○ worked on an event’s website, helped organize the event and in problem solving for the participants.\\n\\n● technical team member (github community srm)\\n● vice president (colossal, cintel department newsletter)\\n\\n○ led a team of 8 alongside the president to release quarterly issues for the departmental newsletter.\\n○ wrote several articles and worked as head editor for the newsletter.\\n\\n\\x0c'"
      ]
     },
     "execution_count": 12,
     "metadata": {},
     "output_type": "execute_result"
    }
   ],
   "source": [
    "import re\n",
    "#remove html tags\n",
    "def remove_html(text):\n",
    "    html_tags = re.compile('<.*?>')\n",
    "    return re.sub(html_tags, '', text)\n",
    "\n",
    "resume_text = remove_html(resume_text)\n",
    "resume_text"
   ]
  },
  {
   "cell_type": "code",
   "execution_count": 13,
   "metadata": {},
   "outputs": [
    {
     "data": {
      "text/plain": [
       "'riya batla\\n\\nemail: \\nmobile: +919310389530\\n\\nskills\\nprogramming: • c • c++ • python • javascript\\nweb & database: • html • css • mysql\\nframeworks & libraries: • reactjs • jquery • bootstrap • tailwind css\\ntech: • git • visual studio • ms office\\nlanguages: • english • hindi • japanese (elementary) • french (elementary)\\n\\neducation\\nb.tech in computer science with specialization in software engineering\\nsrm university, kattankulathur, chennai\\n\\nhigh school diploma\\ndelhi public school, rohini\\n\\nachievements\\n\\ngithub: github.com/cereal-hecker\\nlinkedin: linkedin.com/in/riya-batla\\n\\ncgpa: 9.23\\n\\nxth grade: 92.6%\\nxiith grade: 95.4%\\n\\n● ranked in top 10 at hack summit 3.0 hackathon  - smartkisan\\n\\nled a team of 4 to create a platform that provides farmers an easy way to shift from current methods of inorganic\\nfarming and usage of chemical fertilizers to organic farming using reactjs, bootstrap.\\n\\n● ranked in top 15 at data science hackathon  - achilles\\n\\nled a team of 3 to create a book exchange service where users can upload their books and browse through an\\ninterface to select the books they would like using javascript, jquery, bootstrap.\\n\\nprojects\\n\\n● undrain (personal project) | link -  created a blog website for users to upload blogs using reactjs, javascript,\\n\\njquery, bootstrap.\\n\\n● projectns (team project) | link -  designed a platform that integrated with a terminal application for live stream of\\na segmented nuclei and count, allowing the user to access an instance via the front end using reactjs, bootstrap.\\n\\ncertifications\\n\\n● python skill certificate by hackerrank | link\\n● css skill certificate by hackerrank | link\\n\\nexperience\\n\\n● c programming certificate by directorate of l&d | link\\n\\n● technical team member (swift coding club srm) -\\n\\n○ worked on team projects for multiple hackathons.\\n\\n● web development member (next gen ai)\\n\\n○ worked on a team project for frontend using bootstrap.\\n● technical team member (google developer student clubs srm)\\n\\n○ worked on an event’s website, helped organize the event and in problem solving for the participants.\\n\\n● technical team member (github community srm)\\n● vice president (colossal, cintel department newsletter)\\n\\n○ led a team of 8 alongside the president to release quarterly issues for the departmental newsletter.\\n○ wrote several articles and worked as head editor for the newsletter.\\n\\n\\x0c'"
      ]
     },
     "execution_count": 13,
     "metadata": {},
     "output_type": "execute_result"
    }
   ],
   "source": [
    "#remove url or email\n",
    "def remove_url(text):\n",
    "    url = re.compile(r'https?://\\S+|www\\.\\S+')\n",
    "    #remove gmail id\n",
    "    text = re.sub(r'[\\w\\.-]+@[\\w\\.-]+', '', text)\n",
    "    return re.sub(url, '', text)\n",
    "\n",
    "resume_text = remove_url(resume_text)\n",
    "resume_text"
   ]
  },
  {
   "cell_type": "code",
   "execution_count": 14,
   "metadata": {},
   "outputs": [
    {
     "data": {
      "text/plain": [
       "'riya batla\\n\\nemail \\nmobile 919310389530\\n\\nskills\\nprogramming • c • c • python • javascript\\nweb  database • html • css • mysql\\nframeworks  libraries • reactjs • jquery • bootstrap • tailwind css\\ntech • git • visual studio • ms office\\nlanguages • english • hindi • japanese elementary • french elementary\\n\\neducation\\nbtech in computer science with specialization in software engineering\\nsrm university kattankulathur chennai\\n\\nhigh school diploma\\ndelhi public school rohini\\n\\nachievements\\n\\ngithub githubcomcerealhecker\\nlinkedin linkedincominriyabatla\\n\\ncgpa 923\\n\\nxth grade 926\\nxiith grade 954\\n\\n● ranked in top 10 at hack summit 30 hackathon   smartkisan\\n\\nled a team of 4 to create a platform that provides farmers an easy way to shift from current methods of inorganic\\nfarming and usage of chemical fertilizers to organic farming using reactjs bootstrap\\n\\n● ranked in top 15 at data science hackathon   achilles\\n\\nled a team of 3 to create a book exchange service where users can upload their books and browse through an\\ninterface to select the books they would like using javascript jquery bootstrap\\n\\nprojects\\n\\n● undrain personal project  link   created a blog website for users to upload blogs using reactjs javascript\\n\\njquery bootstrap\\n\\n● projectns team project  link   designed a platform that integrated with a terminal application for live stream of\\na segmented nuclei and count allowing the user to access an instance via the front end using reactjs bootstrap\\n\\ncertifications\\n\\n● python skill certificate by hackerrank  link\\n● css skill certificate by hackerrank  link\\n\\nexperience\\n\\n● c programming certificate by directorate of ld  link\\n\\n● technical team member swift coding club srm \\n\\n○ worked on team projects for multiple hackathons\\n\\n● web development member next gen ai\\n\\n○ worked on a team project for frontend using bootstrap\\n● technical team member google developer student clubs srm\\n\\n○ worked on an event’s website helped organize the event and in problem solving for the participants\\n\\n● technical team member github community srm\\n● vice president colossal cintel department newsletter\\n\\n○ led a team of 8 alongside the president to release quarterly issues for the departmental newsletter\\n○ wrote several articles and worked as head editor for the newsletter\\n\\n\\x0c'"
      ]
     },
     "execution_count": 14,
     "metadata": {},
     "output_type": "execute_result"
    }
   ],
   "source": [
    "import string\n",
    "#remove punctuations\n",
    "def remove_punct(text):\n",
    "    table=str.maketrans('','',string.punctuation)\n",
    "    return text.translate(table)\n",
    "\n",
    "resume_text = remove_punct(resume_text)\n",
    "resume_text"
   ]
  },
  {
   "cell_type": "code",
   "execution_count": 15,
   "metadata": {},
   "outputs": [
    {
     "data": {
      "text/plain": [
       "'riya batla\\n\\nemail \\nmobile 919310389530\\n\\nskills\\nprogramming  c  c  python  javascript\\nweb  database  html  css  mysql\\nframeworks  libraries  reactjs  jquery  bootstrap  tailwind css\\ntech  git  visual studio  ms office\\nlanguages  english  hindi  japanese elementary  french elementary\\n\\neducation\\nbtech in computer science with specialization in software engineering\\nsrm university kattankulathur chennai\\n\\nhigh school diploma\\ndelhi public school rohini\\n\\nachievements\\n\\ngithub githubcomcerealhecker\\nlinkedin linkedincominriyabatla\\n\\ncgpa 923\\n\\nxth grade 926\\nxiith grade 954\\n\\n● ranked in top 10 at hack summit 30 hackathon   smartkisan\\n\\nled a team of 4 to create a platform that provides farmers an easy way to shift from current methods of inorganic\\nfarming and usage of chemical fertilizers to organic farming using reactjs bootstrap\\n\\n● ranked in top 15 at data science hackathon   achilles\\n\\nled a team of 3 to create a book exchange service where users can upload their books and browse through an\\ninterface to select the books they would like using javascript jquery bootstrap\\n\\nprojects\\n\\n● undrain personal project  link   created a blog website for users to upload blogs using reactjs javascript\\n\\njquery bootstrap\\n\\n● projectns team project  link   designed a platform that integrated with a terminal application for live stream of\\na segmented nuclei and count allowing the user to access an instance via the front end using reactjs bootstrap\\n\\ncertifications\\n\\n● python skill certificate by hackerrank  link\\n● css skill certificate by hackerrank  link\\n\\nexperience\\n\\n● c programming certificate by directorate of ld  link\\n\\n● technical team member swift coding club srm \\n\\n○ worked on team projects for multiple hackathons\\n\\n● web development member next gen ai\\n\\n○ worked on a team project for frontend using bootstrap\\n● technical team member google developer student clubs srm\\n\\n○ worked on an event’s website helped organize the event and in problem solving for the participants\\n\\n● technical team member github community srm\\n● vice president colossal cintel department newsletter\\n\\n○ led a team of 8 alongside the president to release quarterly issues for the departmental newsletter\\n○ wrote several articles and worked as head editor for the newsletter\\n\\n\\x0c'"
      ]
     },
     "execution_count": 15,
     "metadata": {},
     "output_type": "execute_result"
    }
   ],
   "source": [
    "#remove bullet points or numbers\n",
    "def remove_bullet(text):\n",
    "    bullet = re.compile(r'•')\n",
    "    return re.sub(bullet, '', text)\n",
    "\n",
    "resume_text = remove_bullet(resume_text)\n",
    "resume_text"
   ]
  },
  {
   "cell_type": "code",
   "execution_count": 16,
   "metadata": {},
   "outputs": [
    {
     "data": {
      "text/plain": [
       "'riya batla  email  mobile 919310389530  skills programming  c  c  python  javascript web  database  html  css  mysql frameworks  libraries  reactjs  jquery  bootstrap  tailwind css tech  git  visual studio  ms office languages  english  hindi  japanese elementary  french elementary  education btech in computer science with specialization in software engineering srm university kattankulathur chennai  high school diploma delhi public school rohini  achievements  github githubcomcerealhecker linkedin linkedincominriyabatla  cgpa 923  xth grade 926 xiith grade 954  ● ranked in top 10 at hack summit 30 hackathon   smartkisan  led a team of 4 to create a platform that provides farmers an easy way to shift from current methods of inorganic farming and usage of chemical fertilizers to organic farming using reactjs bootstrap  ● ranked in top 15 at data science hackathon   achilles  led a team of 3 to create a book exchange service where users can upload their books and browse through an interface to select the books they would like using javascript jquery bootstrap  projects  ● undrain personal project  link   created a blog website for users to upload blogs using reactjs javascript  jquery bootstrap  ● projectns team project  link   designed a platform that integrated with a terminal application for live stream of a segmented nuclei and count allowing the user to access an instance via the front end using reactjs bootstrap  certifications  ● python skill certificate by hackerrank  link ● css skill certificate by hackerrank  link  experience  ● c programming certificate by directorate of ld  link  ● technical team member swift coding club srm   ○ worked on team projects for multiple hackathons  ● web development member next gen ai  ○ worked on a team project for frontend using bootstrap ● technical team member google developer student clubs srm  ○ worked on an event’s website helped organize the event and in problem solving for the participants  ● technical team member github community srm ● vice president colossal cintel department newsletter  ○ led a team of 8 alongside the president to release quarterly issues for the departmental newsletter ○ wrote several articles and worked as head editor for the newsletter  \\x0c'"
      ]
     },
     "execution_count": 16,
     "metadata": {},
     "output_type": "execute_result"
    }
   ],
   "source": [
    "#remove \\n\n",
    "def remove_n(text):\n",
    "    n = re.compile(r'\\n')\n",
    "    return re.sub(n, ' ', text)\n",
    "\n",
    "resume_text = remove_n(resume_text)\n",
    "resume_text"
   ]
  },
  {
   "cell_type": "code",
   "execution_count": 17,
   "metadata": {},
   "outputs": [
    {
     "data": {
      "text/plain": [
       "'riya batla email mobile 919310389530 skills programming c c python javascript web database html css mysql frameworks libraries reactjs jquery bootstrap tailwind css tech git visual studio ms office languages english hindi japanese elementary french elementary education btech in computer science with specialization in software engineering srm university kattankulathur chennai high school diploma delhi public school rohini achievements github githubcomcerealhecker linkedin linkedincominriyabatla cgpa 923 xth grade 926 xiith grade 954 ● ranked in top 10 at hack summit 30 hackathon  smartkisan led a team of 4 to create a platform that provides farmers an easy way to shift from current methods of inorganic farming and usage of chemical fertilizers to organic farming using reactjs bootstrap ● ranked in top 15 at data science hackathon  achilles led a team of 3 to create a book exchange service where users can upload their books and browse through an interface to select the books they would like using javascript jquery bootstrap projects ● undrain personal project link  created a blog website for users to upload blogs using reactjs javascript jquery bootstrap ● projectns team project link  designed a platform that integrated with a terminal application for live stream of a segmented nuclei and count allowing the user to access an instance via the front end using reactjs bootstrap certifications ● python skill certificate by hackerrank link ● css skill certificate by hackerrank link experience ● c programming certificate by directorate of ld link ● technical team member swift coding club srm  ○ worked on team projects for multiple hackathons ● web development member next gen ai ○ worked on a team project for frontend using bootstrap ● technical team member google developer student clubs srm ○ worked on an event’s website helped organize the event and in problem solving for the participants ● technical team member github community srm ● vice president colossal cintel department newsletter ○ led a team of 8 alongside the president to release quarterly issues for the departmental newsletter ○ wrote several articles and worked as head editor for the newsletter \\x0c'"
      ]
     },
     "execution_count": 17,
     "metadata": {},
     "output_type": "execute_result"
    }
   ],
   "source": [
    "#remove double spaces\n",
    "def remove_double_space(text):\n",
    "    double_space = re.compile(r'  ')\n",
    "    return re.sub(double_space, ' ', text)\n",
    "\n",
    "resume_text = remove_double_space(resume_text)\n",
    "resume_text"
   ]
  },
  {
   "cell_type": "code",
   "execution_count": 18,
   "metadata": {},
   "outputs": [
    {
     "data": {
      "text/plain": [
       "'riya batla email mobile  skills programming c c python javascript web database html css mysql frameworks libraries reactjs jquery bootstrap tailwind css tech git visual studio ms office languages english hindi japanese elementary french elementary education btech in computer science with specialization in software engineering srm university kattankulathur chennai high school diploma delhi public school rohini achievements github githubcomcerealhecker linkedin linkedincominriyabatla cgpa  xth grade  xiith grade  ● ranked in top  at hack summit  hackathon  smartkisan led a team of  to create a platform that provides farmers an easy way to shift from current methods of inorganic farming and usage of chemical fertilizers to organic farming using reactjs bootstrap ● ranked in top  at data science hackathon  achilles led a team of  to create a book exchange service where users can upload their books and browse through an interface to select the books they would like using javascript jquery bootstrap projects ● undrain personal project link  created a blog website for users to upload blogs using reactjs javascript jquery bootstrap ● projectns team project link  designed a platform that integrated with a terminal application for live stream of a segmented nuclei and count allowing the user to access an instance via the front end using reactjs bootstrap certifications ● python skill certificate by hackerrank link ● css skill certificate by hackerrank link experience ● c programming certificate by directorate of ld link ● technical team member swift coding club srm  ○ worked on team projects for multiple hackathons ● web development member next gen ai ○ worked on a team project for frontend using bootstrap ● technical team member google developer student clubs srm ○ worked on an event’s website helped organize the event and in problem solving for the participants ● technical team member github community srm ● vice president colossal cintel department newsletter ○ led a team of  alongside the president to release quarterly issues for the departmental newsletter ○ wrote several articles and worked as head editor for the newsletter \\x0c'"
      ]
     },
     "execution_count": 18,
     "metadata": {},
     "output_type": "execute_result"
    }
   ],
   "source": [
    "#remove numbers\n",
    "def remove_numbers(text):\n",
    "    number = re.compile(r'\\d+')\n",
    "    return re.sub(number, '', text)\n",
    "\n",
    "resume_text = remove_numbers(resume_text)\n",
    "resume_text"
   ]
  },
  {
   "cell_type": "code",
   "execution_count": 20,
   "metadata": {},
   "outputs": [
    {
     "data": {
      "text/plain": [
       "'riya batla email mobile skills programming c c python javascript web database html css mysql frameworks libraries reactjs jquery bootstrap tailwind css tech git visual studio ms office languages english hindi japanese elementary french elementary education btech in computer science with specialization in software engineering srm university kattankulathur chennai high school diploma delhi public school rohini achievements github githubcomcerealhecker linkedin linkedincominriyabatla cgpa xth grade xiith grade ● ranked in top at hack summit hackathon smartkisan led a team of to create a platform that provides farmers an easy way to shift from current methods of inorganic farming and usage of chemical fertilizers to organic farming using reactjs bootstrap ● ranked in top at data science hackathon achilles led a team of to create a book exchange service where users can upload their books and browse through an interface to select the books they would like using javascript jquery bootstrap projects ● undrain personal project link created a blog website for users to upload blogs using reactjs javascript jquery bootstrap ● projectns team project link designed a platform that integrated with a terminal application for live stream of a segmented nuclei and count allowing the user to access an instance via the front end using reactjs bootstrap certifications ● python skill certificate by hackerrank link ● css skill certificate by hackerrank link experience ● c programming certificate by directorate of ld link ● technical team member swift coding club srm ○ worked on team projects for multiple hackathons ● web development member next gen ai ○ worked on a team project for frontend using bootstrap ● technical team member google developer student clubs srm ○ worked on an event’s website helped organize the event and in problem solving for the participants ● technical team member github community srm ● vice president colossal cintel department newsletter ○ led a team of alongside the president to release quarterly issues for the departmental newsletter ○ wrote several articles and worked as head editor for the newsletter'"
      ]
     },
     "execution_count": 20,
     "metadata": {},
     "output_type": "execute_result"
    }
   ],
   "source": [
    "#remove words starting with \\\n",
    "def remove_words_starting_with_prefix(text, prefix):\n",
    "    words = text.split()\n",
    "    filtered_words = [word for word in words if not word.startswith(prefix)]\n",
    "    return ' '.join(filtered_words)\n",
    "\n",
    "resume_text = remove_words_starting_with_prefix(resume_text, '\\\\')\n",
    "resume_text"
   ]
  },
  {
   "cell_type": "code",
   "execution_count": 26,
   "metadata": {},
   "outputs": [
    {
     "data": {
      "text/plain": [
       "'riya batla email mobile skills programming c c python javascript web database html css mysql frameworks libraries reactjs jquery bootstrap tailwind css tech git visual studio ms office languages english hindi japanese elementary french elementary education btech computer science specialization software engineering srm university kattankulathur chennai high school diploma delhi public school rohini achievements github githubcomcerealhecker linkedin linkedincominriyabatla cgpa xth grade xiith grade ranked top hack summit hackathon smartkisan led team create platform provides farmers easy way shift current methods inorganic farming usage chemical fertilizers organic farming using reactjs bootstrap ranked top data science hackathon achilles led team create book exchange service users upload books browse interface select books would like using javascript jquery bootstrap projects undrain personal project link created blog website users upload blogs using reactjs javascript jquery bootstrap projectns team project link designed platform integrated terminal application live stream segmented nuclei count allowing user access instance via front end using reactjs bootstrap certifications python skill certificate hackerrank link css skill certificate hackerrank link experience c programming certificate directorate ld link technical team member swift coding club srm  worked team projects multiple hackathons web development member next gen ai  worked team project frontend using bootstrap technical team member google developer student clubs srm  worked event’s website helped organize event problem solving participants technical team member github community srm vice president colossal cintel department newsletter  led team alongside president release quarterly issues departmental newsletter  wrote several articles worked head editor newsletter'"
      ]
     },
     "execution_count": 26,
     "metadata": {},
     "output_type": "execute_result"
    }
   ],
   "source": [
    "def remove_bullet_points(text):\n",
    "    text = text.replace('●', '')\n",
    "    text = text.replace('○', '')\n",
    "    return text\n",
    "\n",
    "resume_text = remove_bullet_points(resume_text)\n",
    "resume_text"
   ]
  },
  {
   "cell_type": "code",
   "execution_count": 28,
   "metadata": {},
   "outputs": [
    {
     "data": {
      "text/plain": [
       "'riya batla email mobile skills programming c c python javascript web database html css mysql frameworks libraries reactjs jquery bootstrap tailwind css tech git visual studio ms office languages english hindi japanese elementary french elementary education btech computer science specialization software engineering srm university kattankulathur chennai high school diploma delhi public school rohini achievements github githubcomcerealhecker linkedin linkedincominriyabatla cgpa xth grade xiith grade ranked top hack summit hackathon smartkisan led team create platform provides farmers easy way shift current methods inorganic farming usage chemical fertilizers organic farming using reactjs bootstrap ranked top data science hackathon achilles led team create book exchange service users upload books browse interface select books would like using javascript jquery bootstrap projects undrain personal project link created blog website users upload blogs using reactjs javascript jquery bootstrap projectns team project link designed platform integrated terminal application live stream segmented nuclei count allowing user access instance via front end using reactjs bootstrap certifications python skill certificate hackerrank link css skill certificate hackerrank link experience c programming certificate directorate ld link technical team member swift coding club srm worked team projects multiple hackathons web development member next gen ai worked team project frontend using bootstrap technical team member google developer student clubs srm worked event’s website helped organize event problem solving participants technical team member github community srm vice president colossal cintel department newsletter led team alongside president release quarterly issues departmental newsletter wrote several articles worked head editor newsletter'"
      ]
     },
     "execution_count": 28,
     "metadata": {},
     "output_type": "execute_result"
    }
   ],
   "source": [
    "#remove roman numbers lower case\n",
    "def remove_roman(text):\n",
    "    roman = re.compile(r'[ivxlcdm]+')\n",
    "    return re.sub(roman, '', text)\n",
    "\n",
    "re"
   ]
  },
  {
   "cell_type": "code",
   "execution_count": 27,
   "metadata": {},
   "outputs": [
    {
     "data": {
      "text/plain": [
       "'riya batla email mobile skills programming c c python javascript web database html css mysql frameworks libraries reactjs jquery bootstrap tailwind css tech git visual studio ms office languages english hindi japanese elementary french elementary education btech computer science specialization software engineering srm university kattankulathur chennai high school diploma delhi public school rohini achievements github githubcomcerealhecker linkedin linkedincominriyabatla cgpa xth grade xiith grade ranked top hack summit hackathon smartkisan led team create platform provides farmers easy way shift current methods inorganic farming usage chemical fertilizers organic farming using reactjs bootstrap ranked top data science hackathon achilles led team create book exchange service users upload books browse interface select books would like using javascript jquery bootstrap projects undrain personal project link created blog website users upload blogs using reactjs javascript jquery bootstrap projectns team project link designed platform integrated terminal application live stream segmented nuclei count allowing user access instance via front end using reactjs bootstrap certifications python skill certificate hackerrank link css skill certificate hackerrank link experience c programming certificate directorate ld link technical team member swift coding club srm worked team projects multiple hackathons web development member next gen ai worked team project frontend using bootstrap technical team member google developer student clubs srm worked event’s website helped organize event problem solving participants technical team member github community srm vice president colossal cintel department newsletter led team alongside president release quarterly issues departmental newsletter wrote several articles worked head editor newsletter'"
      ]
     },
     "execution_count": 27,
     "metadata": {},
     "output_type": "execute_result"
    }
   ],
   "source": [
    "from nltk.corpus import stopwords\n",
    "\n",
    "def remove_stopwords(text):\n",
    "    new_text=[]\n",
    "    for word in text.split():\n",
    "        if word not in stopwords.words('english'):\n",
    "            new_text.append(word)\n",
    "    return ' '.join(new_text)\n",
    "\n",
    "resume_text = remove_stopwords(resume_text)\n",
    "resume_text"
   ]
  },
  {
   "cell_type": "code",
   "execution_count": null,
   "metadata": {},
   "outputs": [],
   "source": [
    "#"
   ]
  }
 ],
 "metadata": {
  "kernelspec": {
   "display_name": "Python 3",
   "language": "python",
   "name": "python3"
  },
  "language_info": {
   "codemirror_mode": {
    "name": "ipython",
    "version": 3
   },
   "file_extension": ".py",
   "mimetype": "text/x-python",
   "name": "python",
   "nbconvert_exporter": "python",
   "pygments_lexer": "ipython3",
   "version": "3.10.2"
  },
  "orig_nbformat": 4,
  "vscode": {
   "interpreter": {
    "hash": "cec3149c39ff75d76ba2ee0904484dc873a82d70d09b337d591c544d26f0d403"
   }
  }
 },
 "nbformat": 4,
 "nbformat_minor": 2
}
